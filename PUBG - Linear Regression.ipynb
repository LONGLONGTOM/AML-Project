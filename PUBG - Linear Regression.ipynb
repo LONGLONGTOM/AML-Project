{
 "cells": [
  {
   "cell_type": "code",
   "execution_count": 16,
   "id": "345ab549",
   "metadata": {},
   "outputs": [],
   "source": [
    "#UNI: yh3506\n",
    "#load the packages:\n",
    "from sklearn.model_selection import train_test_split\n",
    "import pandas as pd\n",
    "import numpy as np\n",
    "from sklearn.metrics import mean_squared_error\n",
    "from sklearn.metrics import mean_absolute_error\n",
    "#load the data:\n",
    "PUBG_data = pd.read_csv(\"PUBG_data.csv\")\n",
    "PUBG_data = PUBG_data.dropna()"
   ]
  },
  {
   "cell_type": "code",
   "execution_count": 17,
   "id": "6b35b4ef",
   "metadata": {},
   "outputs": [],
   "source": [
    "PUBG_data = PUBG_data.drop(['killPoints','maxPlace'],axis = 1)\n",
    "PUBG_data = PUBG_data.drop([\"Id\", \"groupId\", \"matchId\", \"matchType\"],axis=1)"
   ]
  },
  {
   "cell_type": "code",
   "execution_count": 18,
   "id": "9faa8cbd",
   "metadata": {},
   "outputs": [],
   "source": [
    "#making the training data and test dataset:\n",
    "X = PUBG_data\n",
    "y = X.pop(\"winPlacePerc\")\n",
    "X_dev, X_test, y_dev, y_test = train_test_split(X, y, test_size=0.2, random_state=0)\n",
    "X_train, X_val, y_train, y_val = train_test_split(X_dev, y_dev, test_size=0.25, random_state=0)"
   ]
  },
  {
   "cell_type": "code",
   "execution_count": 19,
   "id": "e816c766",
   "metadata": {},
   "outputs": [
    {
     "name": "stdout",
     "output_type": "stream",
     "text": [
      "0.828930028985906\n",
      "The MSE on the test data is 0.016148\n",
      "The RMSE on the test data is 0.127074\n",
      "The MAE on the test data is 0.092835\n"
     ]
    }
   ],
   "source": [
    "from sklearn.linear_model import LinearRegression\n",
    "reg = LinearRegression(fit_intercept=True).fit(X_train, y_train)\n",
    "y_test_pred = reg.predict(X_test)\n",
    "print(reg.score(X_test,y_test))\n",
    "#the MSE for test data:\n",
    "print(\"The MSE on the test data is\",  round(mean_squared_error(y_test_pred,y_test),6))\n",
    "#the RMSE for test data:\n",
    "print(\"The RMSE on the test data is\", round(mean_squared_error(y_test_pred,y_test,squared = False),6))\n",
    "#the MAE for test data:\n",
    "print(\"The MAE on the test data is\",  round(mean_absolute_error(y_test_pred,y_test),6))"
   ]
  }
 ],
 "metadata": {
  "kernelspec": {
   "display_name": "Python 3 (ipykernel)",
   "language": "python",
   "name": "python3"
  },
  "language_info": {
   "codemirror_mode": {
    "name": "ipython",
    "version": 3
   },
   "file_extension": ".py",
   "mimetype": "text/x-python",
   "name": "python",
   "nbconvert_exporter": "python",
   "pygments_lexer": "ipython3",
   "version": "3.9.13"
  }
 },
 "nbformat": 4,
 "nbformat_minor": 5
}
